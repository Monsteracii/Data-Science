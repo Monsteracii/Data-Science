{
    "cells": [
        {
            "cell_type": "markdown",
            "metadata": {
                "collapsed": true
            },
            "source": "# My Jupyter Notebook on IBM Watson Studio"
        },
        {
            "cell_type": "markdown",
            "metadata": {},
            "source": "**Dao Anh Nguyen**\n\nBrand Consultant"
        },
        {
            "cell_type": "markdown",
            "metadata": {},
            "source": "*I am interested in data science because I love working with numbers, using scientific methods to extract insights from data, and then generating final deliverables in favor of proposing business strategies.*"
        },
        {
            "cell_type": "markdown",
            "metadata": {},
            "source": "### The following code will generate the result of a calculation"
        },
        {
            "cell_type": "code",
            "execution_count": 12,
            "metadata": {},
            "outputs": [
                {
                    "data": {
                        "text/plain": "4.82"
                    },
                    "execution_count": 12,
                    "metadata": {},
                    "output_type": "execute_result"
                }
            ],
            "source": "def calculation1(var1, var2):\n    result1 = ((var1 * var2)/2)\n    result2 = result1 / 3.14\n    return result2\nround(calculation1(3.4, 8.9),2)"
        },
        {
            "cell_type": "markdown",
            "metadata": {},
            "source": "<hr>"
        },
        {
            "cell_type": "markdown",
            "metadata": {},
            "source": "#### <font color=Blue>Programming languages for data science</font>"
        },
        {
            "cell_type": "markdown",
            "metadata": {},
            "source": "- Python\n- R\n- SQL"
        },
        {
            "cell_type": "markdown",
            "metadata": {},
            "source": "[Github](https://github.com/Monsteracii) https://github.com/Monsteracii"
        }
    ],
    "metadata": {
        "kernelspec": {
            "display_name": "Python 3.8",
            "language": "python",
            "name": "python3"
        },
        "language_info": {
            "codemirror_mode": {
                "name": "ipython",
                "version": 3
            },
            "file_extension": ".py",
            "mimetype": "text/x-python",
            "name": "python",
            "nbconvert_exporter": "python",
            "pygments_lexer": "ipython3",
            "version": "3.8.12"
        }
    },
    "nbformat": 4,
    "nbformat_minor": 1
}